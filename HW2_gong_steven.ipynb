{
  "nbformat": 4,
  "nbformat_minor": 0,
  "metadata": {
    "colab": {
      "name": "HW2_gong_steven.ipynb",
      "provenance": [],
      "collapsed_sections": []
    },
    "kernelspec": {
      "name": "python3",
      "display_name": "Python 3"
    }
  },
  "cells": [
    {
      "cell_type": "markdown",
      "metadata": {
        "id": "bNsIruOzI4iF"
      },
      "source": [
        "## **Homework 2**\n",
        "\n",
        "### Create a copy of the notebook to start answering the questions. Name your notebook in the format HW1_lastname_firstname.ipynb to facilitate the grading process. \n",
        "\n",
        "### Answer all the questions, test your code to ensure there are no errors and the results are as expected. Once you have answered all the questions, save the final copy, then go to File-> click on Download.ipynb. Once the local copy has been downloaded, submit your file on Blackboard under the corresponding assignment section. Also provide us a link to your notebook during submission. \n",
        "\n",
        "### **The due date of this homework is 02/12/2021 (Friday).**\n",
        "\n",
        "### Please ensure you follow all the steps mentioned in the homework.\n",
        "\n",
        "### All the questions have a sample input and output to help you understand the question.\n",
        "\n",
        "### You can submit your solutions any number of times until the deadline.\n"
      ]
    },
    {
      "cell_type": "markdown",
      "metadata": {
        "id": "U3Yz3s2uio1F"
      },
      "source": [
        "**Q1. Lets consider your data is like the below cell:**\n",
        "\n",
        "**Q1-1**: Write a program that create a dataframe from the data.\n",
        "\n",
        "**Q1-2:** Select people that are psychologist or teacher and their number of cars is greater than their family size.\n",
        "\n",
        "**Q1-3:** Select people who have at most 2 family members and at least 1 car.\n",
        "\n",
        "**Q1-4:** Write a code that get number of unique jobs in this dataset.\n",
        "\n",
        "\n",
        "\n"
      ]
    },
    {
      "cell_type": "code",
      "metadata": {
        "id": "yR8lcOtcjxXD"
      },
      "source": [
        "data = {\"name\": [\"Joseph\", \"Jacob\", \"Sam\", \"Jesee\", \"Ryan\", \"Lisa\", \"Lee\"],\n",
        "        \"job\": [\"teacher\", \"psychologist\", \"data scientist\", \"software developer\", \"psychologist\", \"psychologist\", \"teacher\"],\n",
        "        \"family_size\": [3, 2, 1, 4, 2, 3, 2],\n",
        "        \"num_cars\": [3, 1, 1, 2, 2, 4, 1]}"
      ],
      "execution_count": 2,
      "outputs": []
    },
    {
      "cell_type": "code",
      "metadata": {
        "id": "Youi5qMaP34p",
        "colab": {
          "base_uri": "https://localhost:8080/"
        },
        "outputId": "cb50c0b8-604c-4451-b15c-dcbcd817c839"
      },
      "source": [
        "# Type your solution here\n",
        "import numpy as np\n",
        "import pandas as pd\n",
        "\n",
        "# 1-1\n",
        "df = pd.DataFrame(data)\n",
        "print(df)\n",
        "\n",
        "# 1-2\n",
        "group1 = df[((df.job == \"psychologist\") | (df.job == \"teacher\")&((df['num_cars'])>(df['family_size'])))]\n",
        "print(group1)\n",
        "\n",
        "# 1-3\n",
        "group2 = df.loc[(df.family_size<=2) & (df.num_cars>=1)]\n",
        "print(group2)\n",
        "\n",
        "# 1-4\n",
        "print(df['job'].unique())"
      ],
      "execution_count": 44,
      "outputs": [
        {
          "output_type": "stream",
          "text": [
            "     name                 job  family_size  num_cars\n",
            "0  Joseph             teacher            3         3\n",
            "1   Jacob        psychologist            2         1\n",
            "2     Sam      data scientist            1         1\n",
            "3   Jesee  software developer            4         2\n",
            "4    Ryan        psychologist            2         2\n",
            "5    Lisa        psychologist            3         4\n",
            "6     Lee             teacher            2         1\n",
            "    name           job  family_size  num_cars\n",
            "1  Jacob  psychologist            2         1\n",
            "4   Ryan  psychologist            2         2\n",
            "5   Lisa  psychologist            3         4\n",
            "    name             job  family_size  num_cars\n",
            "1  Jacob    psychologist            2         1\n",
            "2    Sam  data scientist            1         1\n",
            "4   Ryan    psychologist            2         2\n",
            "6    Lee         teacher            2         1\n",
            "['teacher' 'psychologist' 'data scientist' 'software developer']\n"
          ],
          "name": "stdout"
        }
      ]
    },
    {
      "cell_type": "markdown",
      "metadata": {
        "id": "Ow6nG8k4l91X"
      },
      "source": [
        "**Q2. Lets consider you have two series like the below cell. Compute the mean of weights of each fruit.**"
      ]
    },
    {
      "cell_type": "code",
      "metadata": {
        "id": "u-X_DoOzVLLB"
      },
      "source": [
        "import numpy as np\n",
        "import pandas as pd\n",
        "fruit = pd.Series(np.random.choice(['apple', 'banana', 'carrot'], 11)) #changed from 10 to 11\n",
        "weights = pd.Series(np.linspace(1, 10, 10))"
      ],
      "execution_count": 41,
      "outputs": []
    },
    {
      "cell_type": "code",
      "metadata": {
        "id": "S419nzYnpU__",
        "colab": {
          "base_uri": "https://localhost:8080/"
        },
        "outputId": "e6941f28-dd9b-4915-e286-f0e44850ed01"
      },
      "source": [
        "# Type your solution here\n",
        "\n",
        "# Get fruit-weight pairs by fruit\n",
        "# fruit_weights = pd.Series(fruit, index=weights)\n",
        "\n",
        "# Use \"group by\" and \"mean\" functions\n",
        "print(weights.groupby(fruit).mean())\n",
        "# print(np.average(fruit_weights['apple']))"
      ],
      "execution_count": 42,
      "outputs": [
        {
          "output_type": "stream",
          "text": [
            "apple     2.5\n",
            "banana    8.0\n",
            "carrot    6.5\n",
            "dtype: float64\n"
          ],
          "name": "stdout"
        }
      ]
    },
    {
      "cell_type": "markdown",
      "metadata": {
        "id": "g4lKaPIhtVrt"
      },
      "source": [
        "**Q3. Consider the below course_name array:**\n",
        "\n",
        "**Q3-1**: Write a NumPy program to get the indices of the sorted elements of **course_name** array.\n",
        "\n",
        "**Q3-2:** Write numpy code to check whether each element of **course_name** array starts with \"P\".\n"
      ]
    },
    {
      "cell_type": "code",
      "metadata": {
        "id": "RUP_jp2KtVrx"
      },
      "source": [
        "import numpy as np\n",
        "course_name = np.array(['Python', 'JS', 'examples', 'PHP', 'html'])"
      ],
      "execution_count": 29,
      "outputs": []
    },
    {
      "cell_type": "code",
      "metadata": {
        "id": "U1i27POxv-o_",
        "colab": {
          "base_uri": "https://localhost:8080/"
        },
        "outputId": "21e5cd02-140a-4ce7-b03f-c4ff54fe734e"
      },
      "source": [
        "# Type your solution here\n",
        "\n",
        "# 3-1\n",
        "\n",
        "# MANUAL SOLUTION\n",
        "# sorted_courses = np.sort(course_name)\n",
        "# selection = input(\"Enter a course name: \")\n",
        "# while selection not in sorted_courses:\n",
        "#   selection = input(\"Enter a course name: \")\n",
        "# print(np.where(sorted_courses==selection))\n",
        "\n",
        "# NUMPY SOLUTION\n",
        "indices = np.argsort(course_name) \n",
        "print(indices) \n",
        "\n",
        "# 3-2\n",
        "\n",
        "# MANUAL SOLUTION\n",
        "# for e in course_name:\n",
        "#   if e[0] == \"P\" or e[0] == \"p\":\n",
        "#     print(e, \"starts with \\'P\\'\")\n",
        "#   else:\n",
        "#     print(e, \"doesn't start with a \\'P\\'\")\n",
        "\n",
        "# NUMPY SOLUTION\n",
        "startsWithP = np.char.startswith(course_name, \"P\")\n",
        "print(startsWithP)"
      ],
      "execution_count": 39,
      "outputs": [
        {
          "output_type": "stream",
          "text": [
            "[1 3 0 2 4]\n",
            "[ True False False  True False]\n"
          ],
          "name": "stdout"
        }
      ]
    },
    {
      "cell_type": "markdown",
      "metadata": {
        "id": "sUFItNFOxwkz"
      },
      "source": [
        "**Q4. Consider the below student_id array:**\n",
        "\n",
        "**Q4-1:** Reverse the **student_id** array. Print both original and reversed array.\n",
        "\n",
        "**Q4-2:** Get the 3-largest values of **student_id** array."
      ]
    },
    {
      "cell_type": "code",
      "metadata": {
        "id": "Rl5qzEjFv0nw"
      },
      "source": [
        "import numpy as np\n",
        "student_id = np.array([1023, 5202, 6230, 1671, 1682, 5241, 4532])"
      ],
      "execution_count": 37,
      "outputs": []
    },
    {
      "cell_type": "code",
      "metadata": {
        "id": "EetvHGrUxMCC",
        "colab": {
          "base_uri": "https://localhost:8080/"
        },
        "outputId": "dd95a423-bff8-4b4f-9920-d4ccb1a3b9a9"
      },
      "source": [
        "# Type your solution here\n",
        "\n",
        "# 4-1\n",
        "print(\"Original:\", student_id)\n",
        "print(\"Reversed:\", np.flip(student_id))\n",
        "\n",
        "# 4-2\n",
        "sorted_ids = np.sort(student_id)\n",
        "# print(sorted_ids)\n",
        "print(\"Largest 3 values:\", sorted_ids[-3:])"
      ],
      "execution_count": 38,
      "outputs": [
        {
          "output_type": "stream",
          "text": [
            "Original: [1023 5202 6230 1671 1682 5241 4532]\n",
            "Reversed: [4532 5241 1682 1671 6230 5202 1023]\n",
            "Largest 3 values: [5202 5241 6230]\n"
          ],
          "name": "stdout"
        }
      ]
    },
    {
      "cell_type": "markdown",
      "metadata": {
        "id": "uKRyDVuW6B19"
      },
      "source": [
        "# **Q5: Write a numpy program to print sum of all the multiples of 3 or 5 below 100**"
      ]
    },
    {
      "cell_type": "code",
      "metadata": {
        "id": "ZIixq1gz6OK3",
        "colab": {
          "base_uri": "https://localhost:8080/"
        },
        "outputId": "64dcacc3-7e2f-4b8a-f0d7-a28f903be9ef"
      },
      "source": [
        "# Type your solution here\n",
        "import numpy as np\n",
        "\n",
        "# Hint: you can use arange to start off\n",
        "arr3 = np.arange(0,101,3)\n",
        "arr5 = np.arange(0,101,5)\n",
        "both = np.concatenate((arr3, arr5))\n",
        "unique = np.unique(both)\n",
        "print(unique)\n",
        "print(\"Sum =\", unique.sum())"
      ],
      "execution_count": 35,
      "outputs": [
        {
          "output_type": "stream",
          "text": [
            "[  0   3   5   6   9  10  12  15  18  20  21  24  25  27  30  33  35  36\n",
            "  39  40  42  45  48  50  51  54  55  57  60  63  65  66  69  70  72  75\n",
            "  78  80  81  84  85  87  90  93  95  96  99 100]\n",
            "Sum = 2418\n"
          ],
          "name": "stdout"
        }
      ]
    },
    {
      "cell_type": "markdown",
      "metadata": {
        "id": "2CWJOsP24c34"
      },
      "source": [
        "**Q6. Consider the below array.**\n",
        "\n",
        "Q6.1. Write a code to swap column 1 with column 2.\n",
        "\n",
        "Q6.2. Write a code to swap row 0 with row 1."
      ]
    },
    {
      "cell_type": "code",
      "metadata": {
        "id": "3OG6X5Eg5KSM",
        "colab": {
          "base_uri": "https://localhost:8080/"
        },
        "outputId": "dc8f8a7e-9a8f-422a-97ed-1bba784cde5b"
      },
      "source": [
        "import numpy as np\n",
        "\n",
        "arr = np.arange(12).reshape(3,4)\n",
        "print(arr)"
      ],
      "execution_count": 33,
      "outputs": [
        {
          "output_type": "stream",
          "text": [
            "[[ 0  1  2  3]\n",
            " [ 4  5  6  7]\n",
            " [ 8  9 10 11]]\n"
          ],
          "name": "stdout"
        }
      ]
    },
    {
      "cell_type": "code",
      "metadata": {
        "id": "Q-Q91DpO5YYW",
        "colab": {
          "base_uri": "https://localhost:8080/"
        },
        "outputId": "79f2d206-0c4a-4b03-ec72-a7d03e8f3914"
      },
      "source": [
        "# Type your solution here\n",
        "# 6-1\n",
        "arr[:,[1,2]] = arr[:,[2,1]] # what's the explanation behind this syntax?\n",
        "print(\"Swapped column 1 with column 2:\")\n",
        "print(arr)\n",
        "\n",
        "#6-2\n",
        "arr[[0,1],:] = arr[[1,0],:]\n",
        "print(\"Swapped row 0 with row 1:\")\n",
        "print(arr)\n",
        "\n"
      ],
      "execution_count": 34,
      "outputs": [
        {
          "output_type": "stream",
          "text": [
            "Swapped column 1 with column 2:\n",
            "[[ 0  2  1  3]\n",
            " [ 4  6  5  7]\n",
            " [ 8 10  9 11]]\n",
            "Swapped row 0 with row 1:\n",
            "[[ 4  6  5  7]\n",
            " [ 0  2  1  3]\n",
            " [ 8 10  9 11]]\n"
          ],
          "name": "stdout"
        }
      ]
    }
  ]
}